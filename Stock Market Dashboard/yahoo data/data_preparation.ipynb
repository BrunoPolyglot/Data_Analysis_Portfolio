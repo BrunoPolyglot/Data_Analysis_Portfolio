{
 "cells": [
  {
   "cell_type": "code",
   "execution_count": 1,
   "metadata": {},
   "outputs": [],
   "source": [
    "#import library \n",
    "\n",
    "import pandas as pd"
   ]
  },
  {
   "cell_type": "code",
   "execution_count": 2,
   "metadata": {},
   "outputs": [],
   "source": [
    "#import data \n",
    "alten = pd.read_csv(\"ATE.PA.csv\")\n",
    "atos = pd.read_csv(\"ATO.PA.csv\")\n",
    "aubay = pd.read_csv(\"AUB.PA.csv\")\n",
    "cegedim = pd.read_csv(\"CAP.PA.csv\")\n",
    "ovh = pd.read_csv(\"OVH.PA.csv\")\n",
    "capgemini = pd.read_csv(\"CGM.PA.csv\")\n",
    "dassault = pd.read_csv(\"DSY.PA.csv\")\n",
    "STMicro = pd.read_csv(\"STMPA.PA.csv\")\n",
    "SOLUTIONS = pd.read_csv(\"S30.PA.csv\")\n",
    "SOPRA = pd.read_csv(\"SOP.PA.csv\")\n",
    "SWORD = pd.read_csv(\"SWP.PA.csv\")\n",
    "WAVESTONE = pd.read_csv(\"WAVE.PA.csv\")\n",
    "cac = pd.read_csv('cac.csv')"
   ]
  },
  {
   "cell_type": "code",
   "execution_count": 3,
   "metadata": {},
   "outputs": [],
   "source": [
    "\n",
    "dfs = [alten,atos,aubay,cegedim,ovh,capgemini,dassault,STMicro,SOLUTIONS,SOPRA,SWORD,WAVESTONE]"
   ]
  },
  {
   "cell_type": "code",
   "execution_count": 4,
   "metadata": {},
   "outputs": [],
   "source": [
    "for df in dfs:\n",
    "    df['MA50'] = df.Close.rolling(50).mean()\n",
    "    df['MA200'] = df.Close.rolling(200).mean()"
   ]
  },
  {
   "cell_type": "code",
   "execution_count": 9,
   "metadata": {},
   "outputs": [],
   "source": [
    "for df in dfs:\n",
    "    df['Previous day close price'] = df.Close.shift(1)\n",
    "    "
   ]
  },
  {
   "cell_type": "code",
   "execution_count": 10,
   "metadata": {},
   "outputs": [],
   "source": [
    "for df in dfs:\n",
    "    df['Change in price'] = df['Close'] - df['Previous day close price']"
   ]
  },
  {
   "cell_type": "code",
   "execution_count": 11,
   "metadata": {},
   "outputs": [],
   "source": [
    "for df in dfs:\n",
    "    df['Percent change in price'] = df.Close.pct_change()"
   ]
  },
  {
   "cell_type": "code",
   "execution_count": 12,
   "metadata": {},
   "outputs": [],
   "source": [
    "for df in dfs:\n",
    "    df['Previous day volume'] = df.Volume.shift(1)"
   ]
  },
  {
   "cell_type": "code",
   "execution_count": 13,
   "metadata": {},
   "outputs": [],
   "source": [
    "for df in dfs:\n",
    "    df['Change in volume'] = df['Volume'] - df['Previous day volume']"
   ]
  },
  {
   "cell_type": "code",
   "execution_count": 14,
   "metadata": {},
   "outputs": [],
   "source": [
    "for df in dfs:\n",
    "    df['Percent change in volume'] = df.Volume.pct_change()"
   ]
  },
  {
   "cell_type": "code",
   "execution_count": 15,
   "metadata": {},
   "outputs": [],
   "source": [
    "alten.to_csv(\"prepared_data/alten.csv\")\n",
    "atos.to_csv(\"prepared_data/atos.csv\")\n",
    "aubay.to_csv(\"prepared_data/aubay.csv\")\n",
    "cegedim.to_csv(\"prepared_data/cegedim.csv\")\n",
    "ovh.to_csv(\"prepared_data/ovh.csv\")\n",
    "capgemini.to_csv(\"prepared_data/capgemini.csv\")\n",
    "dassault.to_csv(\"prepared_data/dassault.csv\")\n",
    "STMicro.to_csv(\"prepared_data/stmicro.csv\")\n",
    "SOLUTIONS.to_csv(\"prepared_data/solutions.csv\")\n",
    "SOPRA.to_csv(\"prepared_data/sopra.csv\")\n",
    "SWORD.to_csv(\"prepared_data/sword.csv\")\n",
    "WAVESTONE.to_csv(\"prepared_data/wavestone.csv\")\n",
    "cac.to_csv(\"prepared_data/cac.csv\")"
   ]
  }
 ],
 "metadata": {
  "kernelspec": {
   "display_name": "base",
   "language": "python",
   "name": "python3"
  },
  "language_info": {
   "codemirror_mode": {
    "name": "ipython",
    "version": 3
   },
   "file_extension": ".py",
   "mimetype": "text/x-python",
   "name": "python",
   "nbconvert_exporter": "python",
   "pygments_lexer": "ipython3",
   "version": "3.11.5"
  }
 },
 "nbformat": 4,
 "nbformat_minor": 2
}
